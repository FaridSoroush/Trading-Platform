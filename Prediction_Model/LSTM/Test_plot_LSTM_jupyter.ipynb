{
 "cells": [
  {
   "cell_type": "code",
   "execution_count": 2,
   "metadata": {},
   "outputs": [],
   "source": [
    "import pandas as pd\n",
    "import numpy as np\n",
    "from sklearn.preprocessing import MinMaxScaler\n",
    "from sklearn.metrics import mean_squared_error\n",
    "import torch\n",
    "import torch.nn as nn\n",
    "from torch.utils.data import DataLoader, Dataset\n",
    "from joblib import dump, load\n",
    "from tqdm import tqdm\n",
    "import time\n",
    "from torch.nn import DataParallel\n",
    "import os\n",
    "import torch.nn.functional as F\n",
    "import matplotlib.pyplot as plt\n",
    "\n",
    "# Hyperparameters\n",
    "hidden_size = 128\n",
    "num_layers = 4\n",
    "batch_size = 64\n",
    "n_steps = 30\n",
    "input_size = 2\n",
    "output_size = 2\n",
    "\n",
    "predicting_index = 1 # Close price\n"
   ]
  },
  {
   "cell_type": "code",
   "execution_count": 2,
   "metadata": {},
   "outputs": [],
   "source": [
    "%reset -f"
   ]
  },
  {
   "cell_type": "code",
   "execution_count": 3,
   "metadata": {},
   "outputs": [
    {
     "name": "stdout",
     "output_type": "stream",
     "text": [
      "Device: cpu\n"
     ]
    }
   ],
   "source": [
    "device = torch.device(\"cuda\" if torch.cuda.is_available() else \"cpu\")\n",
    "print(\"Device:\", device)\n",
    "\n",
    "if device == torch.device(\"cuda\"):\n",
    "    input_filename = \"BTCUSDT4Y1MKline_cleaned_24features_nSteps\"+str(n_steps)+\".csv\"\n",
    "elif device == torch.device(\"cpu\"):\n",
    "    os.chdir('/Users/faridsoroush/Documents/GitHub/Trading-Software/Prediction_Model/Transformer/')\n",
    "    # print(\"Current working directory: {0}\".format(os.getcwd()))\n",
    "    input_filename = \"BTCUSDT4Y1MKline_cleaned_24features_nSteps\"+str(n_steps)+\".csv\"\n",
    "else:\n",
    "    print(\"Device not found\")\n"
   ]
  },
  {
   "cell_type": "code",
   "execution_count": 5,
   "metadata": {},
   "outputs": [
    {
     "data": {
      "text/plain": [
       "LSTM(\n",
       "  (lstm): LSTM(2, 128, num_layers=4, batch_first=True)\n",
       "  (fc1): Linear(in_features=128, out_features=128, bias=True)\n",
       "  (fc2): Linear(in_features=128, out_features=2, bias=True)\n",
       ")"
      ]
     },
     "execution_count": 5,
     "metadata": {},
     "output_type": "execute_result"
    }
   ],
   "source": [
    "class TimeSeriesDataset(Dataset):\n",
    "    def __init__(self, X, y, y_binary):\n",
    "        self.X = X\n",
    "        self.y = y\n",
    "        self.y_binary = y_binary\n",
    "\n",
    "    def __len__(self):\n",
    "        return len(self.X)\n",
    "\n",
    "    def __getitem__(self, idx):\n",
    "        return self.X[idx], self.y[idx], self.y_binary[idx]\n",
    "\n",
    "class LSTM(nn.Module):\n",
    "    def __init__(self, input_size, hidden_size, num_layers, output_size):\n",
    "        super(LSTM, self).__init__()\n",
    "        self.hidden_size = hidden_size\n",
    "        self.num_layers = num_layers\n",
    "        self.lstm = nn.LSTM(input_size, hidden_size, num_layers, batch_first=True)\n",
    "        self.fc1 = nn.Linear(hidden_size, 128)\n",
    "        self.fc2 = nn.Linear(128, output_size)\n",
    "\n",
    "    def forward(self, x):\n",
    "        h0 = torch.zeros(self.num_layers, x.size(0), self.hidden_size).to(device)\n",
    "        c0 = torch.zeros(self.num_layers, x.size(0), self.hidden_size).to(device)\n",
    "        \n",
    "        out, _ = self.lstm(x, (h0, c0))\n",
    "        out = out[:, -1, :]\n",
    "        out = F.relu(self.fc1(out))\n",
    "        out = self.fc2(out)\n",
    "        return out[:, 0], torch.sigmoid(out[:, 1])\n",
    "\n",
    "# Define the model\n",
    "model = LSTM(input_size, hidden_size, num_layers, output_size)\n",
    "if torch.cuda.device_count() > 1:\n",
    "    print(\"Let's use\", torch.cuda.device_count(), \"GPUs!\")\n",
    "    model = DataParallel(model)\n",
    "model.to(device)"
   ]
  },
  {
   "cell_type": "code",
   "execution_count": 6,
   "metadata": {},
   "outputs": [
    {
     "name": "stdout",
     "output_type": "stream",
     "text": [
      "(64, 2)\n"
     ]
    }
   ],
   "source": [
    "# weights_path = 'model_parameters_10_2_2_100_128_0.001.pth'\n",
    "# weights_path = 'LSTM_model_parameters_10_2_128_100_8_0.0001.pth'\n",
    "weights_path = 'LSTM_model_parameters_30_4_128_10000_64_0.1.pth'\n",
    "\n",
    "# Load, convert and sort the data\n",
    "# input_filename = \"BTCUSDT4Y1MKline.csv\"\n",
    "input_filename = \"BTCUSDT4Y1MKline_cleaned_24features_nSteps30.csv\"\n",
    "df = pd.read_csv(input_filename)\n",
    "df['Open Time'] = pd.to_datetime(df['Open Time'])\n",
    "df['Open Time'] = df['Open Time'].values.astype(np.int64) // 10 ** 9\n",
    "df = df.sort_values('Open Time')\n",
    "length_df = len(df)\n",
    "df = df.iloc[length_df-batch_size:length_df]\n",
    "df=df[['Open Time', 'Close']]\n",
    "# Use the loaded scaler to transform the new data\n",
    "#  scaler=MinMaxScaler(feature_range=(0,1))\n",
    "# scaler=load('scaler.joblib')\n",
    "# scaled_data = scaler.transform(df.values)\n",
    "scaled_data = df.values\n",
    "\n",
    "print(scaled_data.shape)"
   ]
  },
  {
   "cell_type": "code",
   "execution_count": 63,
   "metadata": {},
   "outputs": [
    {
     "name": "stdout",
     "output_type": "stream",
     "text": [
      "Accuracy on Test Data: 0.49926361441612244\n"
     ]
    },
    {
     "ename": "NameError",
     "evalue": "name 'scaler' is not defined",
     "output_type": "error",
     "traceback": [
      "\u001b[0;31m---------------------------------------------------------------------------\u001b[0m",
      "\u001b[0;31mNameError\u001b[0m                                 Traceback (most recent call last)",
      "Cell \u001b[0;32mIn[63], line 84\u001b[0m\n\u001b[1;32m     81\u001b[0m dummy_actuals[:, predicting_index] \u001b[39m=\u001b[39m test_actuals\n\u001b[1;32m     83\u001b[0m \u001b[39m# Now you can inverse transform\u001b[39;00m\n\u001b[0;32m---> 84\u001b[0m test_preds_inv \u001b[39m=\u001b[39m scaler\u001b[39m.\u001b[39minverse_transform(dummy_preds)[:, predicting_index]\n\u001b[1;32m     85\u001b[0m test_actuals_inv \u001b[39m=\u001b[39m scaler\u001b[39m.\u001b[39minverse_transform(dummy_actuals)[:, predicting_index]\n\u001b[1;32m     87\u001b[0m \u001b[39m# # Compute mean squared error on inverse transformed (original scale) data\u001b[39;00m\n\u001b[1;32m     88\u001b[0m \u001b[39m# mse_test_inv = mean_squared_error(test_actuals_inv, test_preds_inv)\u001b[39;00m\n\u001b[1;32m     89\u001b[0m \u001b[39m# print(f\"Mean Squared Error on Test Data (original scale): {mse_test_inv}\")\u001b[39;00m\n\u001b[1;32m     90\u001b[0m \n\u001b[1;32m     91\u001b[0m \u001b[39m# Compute errors on inverse transformed (original scale) data\u001b[39;00m\n",
      "\u001b[0;31mNameError\u001b[0m: name 'scaler' is not defined"
     ]
    }
   ],
   "source": [
    "# # uses scaling:\n",
    "# X = []\n",
    "# y = []\n",
    "# y_binary = []\n",
    "\n",
    "# for i in range(n_steps, len(scaled_data)-1):\n",
    "#     X.append(scaled_data[i - n_steps:i])\n",
    "#     y.append(scaled_data[i, predicting_index])\n",
    "# X = np.array(X)\n",
    "# X = torch.from_numpy(X).float().to(device)\n",
    "# y = torch.tensor(y, dtype=torch.float32).to(device)\n",
    "\n",
    "# for i in range(n_steps, len(scaled_data) - 1):\n",
    "#     y_binary.append(int(scaled_data[i + 1, predicting_index] > scaled_data[i, predicting_index]))\n",
    "# y_binary = torch.tensor(y_binary, dtype=torch.float32).to(device)\n",
    "\n",
    "\n",
    "# train_size = int(len(X) * 0)\n",
    "# val_size = int(len(X) * 0) # additional\n",
    "# # adjusted indices to create validation set\n",
    "# X_train, X_val, X_test = X[:train_size], X[train_size:train_size + val_size], X[train_size + val_size:]\n",
    "# y_train, y_val, y_test = y[:train_size], y[train_size:train_size + val_size], y[train_size + val_size:]\n",
    "# y_train_binary, y_val_binary, y_test_binary = y_binary[:train_size], y_binary[train_size:train_size + val_size], y_binary[train_size + val_size:]\n",
    "\n",
    "# # Convert data to PyTorch tensors and create data loaders\n",
    "# train_dataset = TimeSeriesDataset(X_train, y_train, y_train_binary)\n",
    "# val_dataset = TimeSeriesDataset(X_val, y_val, y_val_binary)\n",
    "# test_dataset = TimeSeriesDataset(X_test, y_test, y_test_binary)\n",
    "# train_loader = DataLoader(train_dataset, batch_size=batch_size, shuffle=False)\n",
    "# val_loader = DataLoader(val_dataset, batch_size=batch_size, shuffle=False)\n",
    "# test_loader = DataLoader(test_dataset, batch_size=batch_size, shuffle=False)\n",
    "\n",
    "# input_size = X_train.shape[2]\n",
    "\n",
    "# # Define the model\n",
    "# model = LSTM(input_size, hidden_size, num_layers, output_size)\n",
    "# if torch.cuda.device_count() > 1:\n",
    "#     print(\"Let's use\", torch.cuda.device_count(), \"GPUs!\")\n",
    "#     model = DataParallel(model)\n",
    "# model.to(device)\n",
    "\n",
    "# model.load_state_dict(torch.load(weights_path, map_location=torch.device('cpu')))\n",
    "\n",
    "# # switch the model to evaluation mode\n",
    "# model.eval()\n",
    "\n",
    "# # initialize arrays to store predictions and actual values\n",
    "# test_preds = []\n",
    "# test_actuals = []\n",
    "# accuracy=0\n",
    "# # perform the testing\n",
    "# with torch.no_grad():\n",
    "#     for i, (batch_X, batch_y_continuous, batch_y_binary) in enumerate(test_loader):\n",
    "#         batch_y_continuous = batch_y_continuous.float().to(device)\n",
    "#         batch_y_binary = batch_y_binary.to(device)\n",
    "#         batch_X = batch_X.to(device)\n",
    "#         outputs, outputs_binary = model(batch_X.float())\n",
    "#         accuracy += (outputs_binary.round() == batch_y_binary).float().mean()\n",
    "#         test_preds.append(outputs.detach().cpu().numpy())\n",
    "#         test_actuals.append(batch_y_continuous.detach().cpu().numpy())\n",
    "\n",
    "# # compute the accuracy\n",
    "# accuracy = accuracy / len(test_loader)\n",
    "# print(f\"Accuracy on Test Data: {accuracy}\")\n",
    "\n",
    "# # convert lists to numpy arrays\n",
    "# test_preds = np.concatenate(test_preds)\n",
    "# test_actuals = np.concatenate(test_actuals)\n",
    "\n",
    "# # compute mean squared error on test data\n",
    "# mse_test = mean_squared_error(test_actuals, test_preds)\n",
    "# # print(f\"Mean Squared Error on Test Data: {mse_test}\")\n",
    "\n",
    "# # Create dummy arrays\n",
    "# n_features = df.shape[1] # assuming df is your original DataFrame before scaling\n",
    "# dummy_preds = np.zeros((len(test_preds), n_features))\n",
    "# dummy_actuals = np.zeros((len(test_actuals), n_features))\n",
    "\n",
    "# # Replace the 'Close' price column with your predictions/actuals\n",
    "# dummy_preds[:, predicting_index] = test_preds\n",
    "# dummy_actuals[:, predicting_index] = test_actuals\n",
    "\n",
    "# # Now you can inverse transform\n",
    "# test_preds_inv = scaler.inverse_transform(dummy_preds)[:, predicting_index]\n",
    "# test_actuals_inv = scaler.inverse_transform(dummy_actuals)[:, predicting_index]\n",
    "\n",
    "# # # Compute mean squared error on inverse transformed (original scale) data\n",
    "# # mse_test_inv = mean_squared_error(test_actuals_inv, test_preds_inv)\n",
    "# # print(f\"Mean Squared Error on Test Data (original scale): {mse_test_inv}\")\n",
    "\n",
    "# # Compute errors on inverse transformed (original scale) data\n",
    "# errors_inv = test_actuals_inv - test_preds_inv\n",
    "# # Convert errors to percentage terms\n",
    "# percentage_errors = np.abs(errors_inv / test_actuals_inv) * 100\n",
    "# # Compute average of the percentage errors\n",
    "# average_percentage_error = np.mean(percentage_errors)\n",
    "# print(f\"Average Error on Test Data (percentage terms): {average_percentage_error}%\")\n",
    "\n",
    "\n",
    "# # Plotting actual vs predicted prices\n",
    "# plt.figure(figsize=(14,6))\n",
    "# plt.plot(test_actuals_inv, color='blue', label='Actual BTC Price')\n",
    "# plt.plot(test_preds_inv, color='red', label='Predicted BTC Price')\n",
    "# plt.title('Bitcoin Price Prediction')\n",
    "# plt.xlabel('Time')\n",
    "# plt.ylabel('Price')\n",
    "# plt.legend()\n",
    "# plt.grid(True)\n",
    "# plt.show()"
   ]
  },
  {
   "cell_type": "code",
   "execution_count": 17,
   "metadata": {},
   "outputs": [
    {
     "name": "stdout",
     "output_type": "stream",
     "text": [
      "Accuracy on Test Data: 0.5454545617103577\n",
      "Mean Squared Error on Test Data: 9057692.0\n",
      "Average Error on Test Data (percentage terms): 9.450305938720703%\n"
     ]
    },
    {
     "data": {
      "image/png": "[encoded data removed]",
      "text/plain": [
       "<Figure size 1400x600 with 1 Axes>"
      ]
     },
     "metadata": {},
     "output_type": "display_data"
    }
   ],
   "source": [
    "# without scaling\n",
    "##############################################\n",
    "X = []\n",
    "y = []\n",
    "y_binary = []\n",
    "\n",
    "for i in range(n_steps, len(scaled_data)-1):\n",
    "    X.append(scaled_data[i - n_steps:i])\n",
    "    y.append(scaled_data[i, predicting_index])\n",
    "X = np.array(X)\n",
    "X = torch.from_numpy(X).float().to(device)\n",
    "y = torch.tensor(y, dtype=torch.float32).to(device)\n",
    "\n",
    "for i in range(n_steps, len(scaled_data) - 1):\n",
    "    y_binary.append(int(scaled_data[i + 1, predicting_index] > scaled_data[i, predicting_index]))\n",
    "y_binary = torch.tensor(y_binary, dtype=torch.float32).to(device)\n",
    "\n",
    "\n",
    "train_size = int(len(X) * 0)\n",
    "val_size = int(len(X) * 0) # additional\n",
    "# adjusted indices to create validation set\n",
    "X_train, X_val, X_test = X[:train_size], X[train_size:train_size + val_size], X[train_size + val_size:]\n",
    "y_train, y_val, y_test = y[:train_size], y[train_size:train_size + val_size], y[train_size + val_size:]\n",
    "y_train_binary, y_val_binary, y_test_binary = y_binary[:train_size], y_binary[train_size:train_size + val_size], y_binary[train_size + val_size:]\n",
    "\n",
    "# Convert data to PyTorch tensors and create data loaders\n",
    "train_dataset = TimeSeriesDataset(X_train, y_train, y_train_binary)\n",
    "val_dataset = TimeSeriesDataset(X_val, y_val, y_val_binary)\n",
    "test_dataset = TimeSeriesDataset(X_test, y_test, y_test_binary)\n",
    "train_loader = DataLoader(train_dataset, batch_size=batch_size, shuffle=False)\n",
    "val_loader = DataLoader(val_dataset, batch_size=batch_size, shuffle=False)\n",
    "test_loader = DataLoader(test_dataset, batch_size=batch_size, shuffle=False)\n",
    "\n",
    "input_size = X_train.shape[2]\n",
    "\n",
    "# Define the model\n",
    "model = LSTM(input_size, hidden_size, num_layers, output_size)\n",
    "if torch.cuda.device_count() > 1:\n",
    "    print(\"Let's use\", torch.cuda.device_count(), \"GPUs!\")\n",
    "    model = DataParallel(model)\n",
    "model.to(device)\n",
    "\n",
    "model.load_state_dict(torch.load(weights_path, map_location=torch.device('cpu')))\n",
    "# switch the model to evaluation mode\n",
    "model.eval()\n",
    "\n",
    "# initialize arrays to store predictions and actual values\n",
    "test_preds = []\n",
    "test_actuals = []\n",
    "accuracy=0\n",
    "# perform the testing\n",
    "with torch.no_grad():\n",
    "    for i, (batch_X, batch_y_continuous, batch_y_binary) in enumerate(test_loader):\n",
    "        batch_y_continuous = batch_y_continuous.float().to(device)\n",
    "        batch_y_binary = batch_y_binary.to(device)\n",
    "        batch_X = batch_X.to(device)\n",
    "        outputs, outputs_binary = model(batch_X.float())\n",
    "        accuracy += (outputs_binary.round() == batch_y_binary).float().mean()\n",
    "        test_preds.append(outputs.detach().cpu().numpy())\n",
    "        test_actuals.append(batch_y_continuous.detach().cpu().numpy())\n",
    "\n",
    "# compute the accuracy\n",
    "accuracy = accuracy / len(test_loader)\n",
    "print(f\"Accuracy on Test Data: {accuracy}\")\n",
    "\n",
    "# convert lists to numpy arrays\n",
    "test_preds = np.concatenate(test_preds)\n",
    "test_actuals = np.concatenate(test_actuals)\n",
    "\n",
    "# compute mean squared error on test data\n",
    "mse_test = mean_squared_error(test_actuals, test_preds)\n",
    "print(f\"Mean Squared Error on Test Data: {mse_test}\")\n",
    "\n",
    "# Compute errors on inverse transformed (original scale) data\n",
    "errors_inv = test_actuals - test_preds\n",
    "# Convert errors to percentage terms\n",
    "percentage_errors = np.abs(errors_inv / test_actuals) * 100\n",
    "# Compute average of the percentage errors\n",
    "average_percentage_error = np.mean(percentage_errors)\n",
    "print(f\"Average Error on Test Data (percentage terms): {average_percentage_error}%\")\n",
    "\n",
    "# Plotting actual vs predicted prices\n",
    "plt.figure(figsize=(14,6))\n",
    "plt.plot(test_actuals, color='blue', label='Actual BTC Price')\n",
    "plt.plot(test_preds, color='red', label='Predicted BTC Price')\n",
    "plt.title('Bitcoin Price Prediction')\n",
    "plt.xlabel('Time')\n",
    "plt.ylabel('Price')\n",
    "plt.legend()\n",
    "plt.grid(True)\n",
    "plt.show()\n"
   ]
  },
  {
   "cell_type": "code",
   "execution_count": 7,
   "metadata": {},
   "outputs": [
    {
     "name": "stdout",
     "output_type": "stream",
     "text": [
      "The model has 480642 parameters\n"
     ]
    }
   ],
   "source": [
    "def count_parameters(model):\n",
    "    return sum(p.numel() for p in model.parameters() if p.requires_grad)\n",
    "\n",
    "print(f'The model has {count_parameters(model)} parameters')\n"
   ]
  }
 ],
 "metadata": {
  "kernelspec": {
   "display_name": "Python 3",
   "language": "python",
   "name": "python3"
  },
  "language_info": {
   "codemirror_mode": {
    "name": "ipython",
    "version": 3
   },
   "file_extension": ".py",
   "mimetype": "text/x-python",
   "name": "python",
   "nbconvert_exporter": "python",
   "pygments_lexer": "ipython3",
   "version": "3.11.1"
  },
  "orig_nbformat": 4
 },
 "nbformat": 4,
 "nbformat_minor": 2
}
